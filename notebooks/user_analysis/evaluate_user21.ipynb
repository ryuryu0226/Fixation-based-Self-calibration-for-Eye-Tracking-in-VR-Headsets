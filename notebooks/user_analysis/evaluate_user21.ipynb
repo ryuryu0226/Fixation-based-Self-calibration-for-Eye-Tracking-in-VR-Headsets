{
 "cells": [
  {
   "cell_type": "code",
   "execution_count": 1,
   "id": "e4a1b476-0fcf-4655-baf5-61d1e0c813cc",
   "metadata": {},
   "outputs": [],
   "source": [
    "import numpy as np\n",
    "import pandas as pd\n",
    "import matplotlib.pyplot as plt"
   ]
  },
  {
   "cell_type": "code",
   "execution_count": 2,
   "id": "93dc75ad-400e-4cb0-987d-5c76d905d148",
   "metadata": {},
   "outputs": [],
   "source": [
    "import sys\n",
    "sys.path.append(\"../../src\")\n",
    "from evaluate_gaze import EvaluateGaze"
   ]
  },
  {
   "cell_type": "code",
   "execution_count": 3,
   "id": "3148532c-aa54-4a84-a390-6a0c48367ab0",
   "metadata": {},
   "outputs": [
    {
     "data": {
      "text/html": [
       "<div>\n",
       "<style scoped>\n",
       "    .dataframe tbody tr th:only-of-type {\n",
       "        vertical-align: middle;\n",
       "    }\n",
       "\n",
       "    .dataframe tbody tr th {\n",
       "        vertical-align: top;\n",
       "    }\n",
       "\n",
       "    .dataframe thead th {\n",
       "        text-align: right;\n",
       "    }\n",
       "</style>\n",
       "<table border=\"1\" class=\"dataframe\">\n",
       "  <thead>\n",
       "    <tr style=\"text-align: right;\">\n",
       "      <th></th>\n",
       "      <th>flag</th>\n",
       "      <th>xl</th>\n",
       "      <th>yl</th>\n",
       "      <th>zl</th>\n",
       "      <th>xr</th>\n",
       "      <th>yr</th>\n",
       "      <th>zr</th>\n",
       "      <th>xc</th>\n",
       "      <th>yc</th>\n",
       "      <th>zc</th>\n",
       "      <th>...</th>\n",
       "      <th>ray_x</th>\n",
       "      <th>ray_y</th>\n",
       "      <th>ray_z</th>\n",
       "      <th>eye_x</th>\n",
       "      <th>eye_y</th>\n",
       "      <th>eye_z</th>\n",
       "      <th>time</th>\n",
       "      <th>frame</th>\n",
       "      <th>u</th>\n",
       "      <th>v</th>\n",
       "    </tr>\n",
       "  </thead>\n",
       "  <tbody>\n",
       "    <tr>\n",
       "      <th>0</th>\n",
       "      <td>25.0</td>\n",
       "      <td>0.217897</td>\n",
       "      <td>0.172747</td>\n",
       "      <td>1.000011</td>\n",
       "      <td>0.064400</td>\n",
       "      <td>0.180066</td>\n",
       "      <td>1.000048</td>\n",
       "      <td>0.141149</td>\n",
       "      <td>0.176406</td>\n",
       "      <td>1.000029</td>\n",
       "      <td>...</td>\n",
       "      <td>0.136137</td>\n",
       "      <td>0.172769</td>\n",
       "      <td>0.975509</td>\n",
       "      <td>-0.001002</td>\n",
       "      <td>-0.003996</td>\n",
       "      <td>-0.018574</td>\n",
       "      <td>62.73333</td>\n",
       "      <td>3886.0</td>\n",
       "      <td>0.175</td>\n",
       "      <td>0.104</td>\n",
       "    </tr>\n",
       "    <tr>\n",
       "      <th>1</th>\n",
       "      <td>25.0</td>\n",
       "      <td>0.218201</td>\n",
       "      <td>0.171957</td>\n",
       "      <td>1.000084</td>\n",
       "      <td>0.064433</td>\n",
       "      <td>0.180747</td>\n",
       "      <td>1.000098</td>\n",
       "      <td>0.141317</td>\n",
       "      <td>0.176352</td>\n",
       "      <td>1.000091</td>\n",
       "      <td>...</td>\n",
       "      <td>0.136288</td>\n",
       "      <td>0.172707</td>\n",
       "      <td>0.975499</td>\n",
       "      <td>-0.001001</td>\n",
       "      <td>-0.003997</td>\n",
       "      <td>-0.018570</td>\n",
       "      <td>62.74445</td>\n",
       "      <td>3887.0</td>\n",
       "      <td>0.175</td>\n",
       "      <td>0.104</td>\n",
       "    </tr>\n",
       "    <tr>\n",
       "      <th>2</th>\n",
       "      <td>25.0</td>\n",
       "      <td>0.218820</td>\n",
       "      <td>0.170285</td>\n",
       "      <td>0.999842</td>\n",
       "      <td>0.064572</td>\n",
       "      <td>0.179725</td>\n",
       "      <td>0.999888</td>\n",
       "      <td>0.141697</td>\n",
       "      <td>0.175005</td>\n",
       "      <td>0.999865</td>\n",
       "      <td>...</td>\n",
       "      <td>0.136704</td>\n",
       "      <td>0.171486</td>\n",
       "      <td>0.975656</td>\n",
       "      <td>-0.000999</td>\n",
       "      <td>-0.003998</td>\n",
       "      <td>-0.018559</td>\n",
       "      <td>62.75556</td>\n",
       "      <td>3888.0</td>\n",
       "      <td>0.175</td>\n",
       "      <td>0.104</td>\n",
       "    </tr>\n",
       "    <tr>\n",
       "      <th>3</th>\n",
       "      <td>25.0</td>\n",
       "      <td>0.218906</td>\n",
       "      <td>0.170256</td>\n",
       "      <td>0.999797</td>\n",
       "      <td>0.065212</td>\n",
       "      <td>0.180079</td>\n",
       "      <td>0.999819</td>\n",
       "      <td>0.142060</td>\n",
       "      <td>0.175168</td>\n",
       "      <td>0.999808</td>\n",
       "      <td>...</td>\n",
       "      <td>0.137049</td>\n",
       "      <td>0.171643</td>\n",
       "      <td>0.975580</td>\n",
       "      <td>-0.000999</td>\n",
       "      <td>-0.004002</td>\n",
       "      <td>-0.018551</td>\n",
       "      <td>62.77778</td>\n",
       "      <td>3889.0</td>\n",
       "      <td>0.175</td>\n",
       "      <td>0.104</td>\n",
       "    </tr>\n",
       "    <tr>\n",
       "      <th>4</th>\n",
       "      <td>25.0</td>\n",
       "      <td>0.218735</td>\n",
       "      <td>0.171404</td>\n",
       "      <td>0.999847</td>\n",
       "      <td>0.066059</td>\n",
       "      <td>0.180921</td>\n",
       "      <td>0.999828</td>\n",
       "      <td>0.142397</td>\n",
       "      <td>0.176162</td>\n",
       "      <td>0.999838</td>\n",
       "      <td>...</td>\n",
       "      <td>0.137340</td>\n",
       "      <td>0.172564</td>\n",
       "      <td>0.975376</td>\n",
       "      <td>-0.000999</td>\n",
       "      <td>-0.004011</td>\n",
       "      <td>-0.018544</td>\n",
       "      <td>62.78889</td>\n",
       "      <td>3890.0</td>\n",
       "      <td>0.175</td>\n",
       "      <td>0.104</td>\n",
       "    </tr>\n",
       "  </tbody>\n",
       "</table>\n",
       "<p>5 rows × 54 columns</p>\n",
       "</div>"
      ],
      "text/plain": [
       "   flag        xl        yl        zl        xr        yr        zr        xc  \\\n",
       "0  25.0  0.217897  0.172747  1.000011  0.064400  0.180066  1.000048  0.141149   \n",
       "1  25.0  0.218201  0.171957  1.000084  0.064433  0.180747  1.000098  0.141317   \n",
       "2  25.0  0.218820  0.170285  0.999842  0.064572  0.179725  0.999888  0.141697   \n",
       "3  25.0  0.218906  0.170256  0.999797  0.065212  0.180079  0.999819  0.142060   \n",
       "4  25.0  0.218735  0.171404  0.999847  0.066059  0.180921  0.999828  0.142397   \n",
       "\n",
       "         yc        zc  ...     ray_x     ray_y     ray_z     eye_x     eye_y  \\\n",
       "0  0.176406  1.000029  ...  0.136137  0.172769  0.975509 -0.001002 -0.003996   \n",
       "1  0.176352  1.000091  ...  0.136288  0.172707  0.975499 -0.001001 -0.003997   \n",
       "2  0.175005  0.999865  ...  0.136704  0.171486  0.975656 -0.000999 -0.003998   \n",
       "3  0.175168  0.999808  ...  0.137049  0.171643  0.975580 -0.000999 -0.004002   \n",
       "4  0.176162  0.999838  ...  0.137340  0.172564  0.975376 -0.000999 -0.004011   \n",
       "\n",
       "      eye_z      time   frame      u      v  \n",
       "0 -0.018574  62.73333  3886.0  0.175  0.104  \n",
       "1 -0.018570  62.74445  3887.0  0.175  0.104  \n",
       "2 -0.018559  62.75556  3888.0  0.175  0.104  \n",
       "3 -0.018551  62.77778  3889.0  0.175  0.104  \n",
       "4 -0.018544  62.78889  3890.0  0.175  0.104  \n",
       "\n",
       "[5 rows x 54 columns]"
      ]
     },
     "execution_count": 3,
     "metadata": {},
     "output_type": "execute_result"
    }
   ],
   "source": [
    "user_id = 21\n",
    "df = pd.read_csv(f\"../data/eval_data/gaze_user{user_id}_eval_9.csv\")\n",
    "\n",
    "df.head()"
   ]
  },
  {
   "cell_type": "code",
   "execution_count": 4,
   "id": "dd99ef57-9e30-40f0-953f-1469103d7c47",
   "metadata": {},
   "outputs": [],
   "source": [
    "# gaze direction\n",
    "ray_x = df[\"ray_x\"].values\n",
    "ray_y = df[\"ray_y\"].values\n",
    "ray_z = df[\"ray_z\"].values\n",
    "\n",
    "# gaze direction at z=1\n",
    "xe = ray_x[:] / ray_z[:] * 1.0\n",
    "ye = ray_y[:] / ray_z[:] * 1.0\n",
    "\n",
    "# marker position on a calibration plane at 1m away (HMD coordinates)\n",
    "p = df[\"u\"].values\n",
    "q = df[\"v\"].values\n",
    "\n",
    "# origin (HMD coordinates)\n",
    "eye_x = df[\"eye_x\"].values\n",
    "eye_y = df[\"eye_y\"].values\n",
    "eye_z = df[\"eye_z\"].values\n",
    "\n",
    "# gaze position on a calibration plane at 1m away (HMD coordinates)\n",
    "ones = np.ones_like(eye_z)\n",
    "t = (ones - eye_z) / ray_z\n",
    "xh = eye_x + t * ray_x\n",
    "yh = eye_y + t * ray_y"
   ]
  },
  {
   "cell_type": "markdown",
   "id": "e4087cd3-36e6-42d2-9e6c-655a28467c61",
   "metadata": {},
   "source": [
    "## Evaluate raw gaze direction"
   ]
  },
  {
   "cell_type": "code",
   "execution_count": 5,
   "id": "d2e40aea-4d37-4d64-9adf-65528c4f1f96",
   "metadata": {},
   "outputs": [
    {
     "data": {
      "text/plain": [
       "[0.0, 1.0, 0.0, 0.0, 0.0, 1.0]"
      ]
     },
     "execution_count": 5,
     "metadata": {},
     "output_type": "execute_result"
    }
   ],
   "source": [
    "param_raw = [0.0, 1.0, 0.0, 0.0, 0.0, 1.0]\n",
    "param_raw"
   ]
  },
  {
   "cell_type": "code",
   "execution_count": 6,
   "id": "26293b1b-7c73-4bc9-9f5f-1694173a1750",
   "metadata": {},
   "outputs": [
    {
     "name": "stdout",
     "output_type": "stream",
     "text": [
      "RMSE: 0.08520010078020096\n",
      "angle_err: 4.869845416919062\n"
     ]
    }
   ],
   "source": [
    "rmse_raw = EvaluateGaze.err_rmse_reg(param_raw, xe, ye, eye_x, eye_y, eye_z, p, q)\n",
    "print(f\"RMSE: {rmse_raw}\")\n",
    "\n",
    "angle_err = np.rad2deg(np.arctan(rmse_raw))\n",
    "print(f\"angle_err: {angle_err}\")"
   ]
  },
  {
   "cell_type": "markdown",
   "id": "439d4e1a-a07d-4d46-9626-3d8cc41f8725",
   "metadata": {},
   "source": [
    "## Evaluate visual axis"
   ]
  },
  {
   "cell_type": "code",
   "execution_count": 7,
   "id": "db2527aa-748b-447e-a979-0aa74bc47c4a",
   "metadata": {},
   "outputs": [
    {
     "data": {
      "text/plain": [
       "array([ 0.0029438 ,  1.20218684, -0.00282292, -0.08147177,  0.01555228,\n",
       "        1.03468206])"
      ]
     },
     "execution_count": 7,
     "metadata": {},
     "output_type": "execute_result"
    }
   ],
   "source": [
    "pramm_vis = pd.read_csv(f\"../param/baseline_param.csv\").values[user_id-1]\n",
    "pramm_vis"
   ]
  },
  {
   "cell_type": "code",
   "execution_count": 8,
   "id": "b908dc5c-2d21-484b-af29-3cf3fbb81268",
   "metadata": {},
   "outputs": [],
   "source": [
    "# calibrate gaze direction\n",
    "calib_xe, calib_ye = EvaluateGaze.calibrate_reg(pramm_vis, xe, ye)\n",
    "\n",
    "# convert gaze position on calibration plane at 1m away (HMD coordinates)\n",
    "ones = np.ones_like(calib_xe)\n",
    "t = (ones - eye_z) / 1.0\n",
    "calib_xh = eye_x + t * calib_xe\n",
    "calib_yh = eye_y + t * calib_ye"
   ]
  },
  {
   "cell_type": "code",
   "execution_count": 9,
   "id": "da7ee98b-8c05-4162-81ed-41ad4ca60bf8",
   "metadata": {},
   "outputs": [
    {
     "name": "stdout",
     "output_type": "stream",
     "text": [
      "RMSE: 0.012087129922848416\n",
      "angle_err: 0.6925078074869163\n"
     ]
    }
   ],
   "source": [
    "rmse_vis = EvaluateGaze.err_rmse_reg(pramm_vis, xe, ye, eye_x, eye_y, eye_z, p, q)\n",
    "print(f\"RMSE: {rmse_vis}\")\n",
    "\n",
    "angle_err = np.rad2deg(np.arctan(rmse_vis))\n",
    "print(f\"angle_err: {angle_err}\")"
   ]
  },
  {
   "cell_type": "code",
   "execution_count": 10,
   "id": "503677f9-5e81-4275-866b-e1b428a0b37d",
   "metadata": {},
   "outputs": [
    {
     "data": {
      "image/png": "[encoded data removed]",
      "text/plain": [
       "<Figure size 800x800 with 1 Axes>"
      ]
     },
     "metadata": {},
     "output_type": "display_data"
    }
   ],
   "source": [
    "label_xy = [-0.7/4, 0.0, 0.7/4]\n",
    "\n",
    "# キャリブレーション後\n",
    "plt.rcParams['font.family'] = 'Times New Roman'\n",
    "plt.rcParams['mathtext.fontset'] = 'stix'\n",
    "\n",
    "fig = plt.figure(figsize=(8, 8))\n",
    "fig.patch.set_facecolor(\"white\")\n",
    "\n",
    "plt.scatter(calib_xh, calib_yh, c=\"green\", label=\"visual axis\")\n",
    "plt.scatter(xh, yh, c=\"gray\", label=\"raw data\")\n",
    "plt.scatter(p, q, c=\"black\", label=\"marker\")\n",
    "\n",
    "plt.xlabel(\"x [m]\",  size=24)\n",
    "plt.ylabel(\"y [m]\",  size=24)\n",
    "\n",
    "plt.xlim(-0.4, 0.4)\n",
    "plt.ylim(-0.4-0.071, 0.4-0.071)\n",
    "plt.xticks([-0.175, 0.0, 0.175], label_xy, fontsize=14)\n",
    "plt.yticks([-0.175-0.071, -0.071, 0.175-0.071], label_xy, fontsize=14)\n",
    "\n",
    "plt.grid(which=\"major\", axis=\"both\", linestyle='--')\n",
    "plt.tick_params(length=8)\n",
    "plt.legend(fontsize=18, loc=\"upper right\")\n",
    "plt.subplots_adjust(left=0.15, right=0.95, bottom=0.1, top=0.9)\n",
    "plt.show()"
   ]
  },
  {
   "cell_type": "markdown",
   "id": "36da836f-a9b1-4bfc-af19-97d21e7cf221",
   "metadata": {},
   "source": [
    "## Evaluate optical axis"
   ]
  },
  {
   "cell_type": "code",
   "execution_count": 11,
   "id": "38786556-3d4a-4dd1-94bb-4349a93efddd",
   "metadata": {},
   "outputs": [
    {
     "data": {
      "text/plain": [
       "array([ 0.99984123, -0.00102759, -0.01778921,  0.        ,  0.99833578,\n",
       "       -0.05766857,  0.01781887,  0.05765942,  0.99817728])"
      ]
     },
     "execution_count": 11,
     "metadata": {},
     "output_type": "execute_result"
    }
   ],
   "source": [
    "param_opt = EvaluateGaze.get_rotation([-1.021, -3.306]).flatten()\n",
    "param_opt"
   ]
  },
  {
   "cell_type": "code",
   "execution_count": 12,
   "id": "74246fb7-5553-490f-80a4-7d4a23c4a4d7",
   "metadata": {},
   "outputs": [
    {
     "data": {
      "text/plain": [
       "(565, 3)"
      ]
     },
     "execution_count": 12,
     "metadata": {},
     "output_type": "execute_result"
    }
   ],
   "source": [
    "r = np.sqrt(calib_xe * calib_xe + calib_ye * calib_ye + 1)\n",
    "ray = np.stack([calib_xe/r, calib_ye/r, 1/r], axis=1)\n",
    "ray.shape"
   ]
  },
  {
   "cell_type": "code",
   "execution_count": 13,
   "id": "bb3baa84-5358-440e-9139-feb818bd0ac3",
   "metadata": {},
   "outputs": [],
   "source": [
    "# calibrate gaze direction\n",
    "calib_ray = EvaluateGaze.calibrate_3d(param_opt, ray)\n",
    "\n",
    "# calculate gaze direction at z=1\n",
    "calib_xe2 = calib_ray[:, 0] / calib_ray[:, 2] * 1.0\n",
    "calib_ye2 = calib_ray[:, 1] / calib_ray[:, 2] * 1.0\n",
    "\n",
    "# convert gaze position on calibration plane at 1m away (HMD coordinates)\n",
    "ones = np.ones_like(calib_xe2)\n",
    "t = (ones - eye_z) / 1.0\n",
    "calib_xh2 = eye_x + t * calib_xe2\n",
    "calib_yh2 = eye_y + t * calib_ye2"
   ]
  },
  {
   "cell_type": "code",
   "execution_count": 14,
   "id": "dde363af-264c-4730-ae44-e9b633e3a052",
   "metadata": {},
   "outputs": [
    {
     "name": "stdout",
     "output_type": "stream",
     "text": [
      "RMSE: 0.06474831588460521\n",
      "angle_err: 3.7046339719604644\n"
     ]
    }
   ],
   "source": [
    "rmse_opt = EvaluateGaze.err_rmse_3d(param_opt, ray, eye_x, eye_y, eye_z, p, q)\n",
    "print(f\"RMSE: {rmse_opt}\")\n",
    "\n",
    "angle_err = np.rad2deg(np.arctan(rmse_opt))\n",
    "print(f\"angle_err: {angle_err}\")"
   ]
  },
  {
   "cell_type": "code",
   "execution_count": 15,
   "id": "12c6bc2a-6485-451b-90ac-5302947067d8",
   "metadata": {},
   "outputs": [
    {
     "data": {
      "image/png": "[encoded data removed]",
      "text/plain": [
       "<Figure size 800x800 with 1 Axes>"
      ]
     },
     "metadata": {},
     "output_type": "display_data"
    }
   ],
   "source": [
    "label_xy = [-0.7/4, 0.0, 0.7/4]\n",
    "\n",
    "# キャリブレーション後\n",
    "plt.rcParams['font.family'] = 'Times New Roman'\n",
    "plt.rcParams['mathtext.fontset'] = 'stix'\n",
    "\n",
    "fig = plt.figure(figsize=(8, 8))\n",
    "fig.patch.set_facecolor(\"white\")\n",
    "\n",
    "plt.scatter(calib_xh, calib_yh, c=\"green\", label=\"visual axis\")\n",
    "plt.scatter(calib_xh2, calib_yh2, c=\"lightgreen\", label=\"optical axis\")\n",
    "plt.scatter(p, q, c=\"black\", label=\"marker\")\n",
    "\n",
    "plt.xlabel(\"x [m]\",  size=24)\n",
    "plt.ylabel(\"y [m]\",  size=24)\n",
    "\n",
    "plt.xlim(-0.4, 0.4)\n",
    "plt.ylim(-0.4-0.071, 0.4-0.071)\n",
    "plt.xticks([-0.175, 0.0, 0.175], label_xy, fontsize=14)\n",
    "plt.yticks([-0.175-0.071, -0.071, 0.175-0.071], label_xy, fontsize=14)\n",
    "\n",
    "plt.grid(which=\"major\", axis=\"both\", linestyle='--')\n",
    "plt.tick_params(length=8)\n",
    "plt.legend(fontsize=18, loc=\"upper right\")\n",
    "plt.subplots_adjust(left=0.15, right=0.95, bottom=0.1, top=0.9)\n",
    "plt.show()"
   ]
  }
 ],
 "metadata": {
  "kernelspec": {
   "display_name": "Python 3 (ipykernel)",
   "language": "python",
   "name": "python3"
  },
  "language_info": {
   "codemirror_mode": {
    "name": "ipython",
    "version": 3
   },
   "file_extension": ".py",
   "mimetype": "text/x-python",
   "name": "python",
   "nbconvert_exporter": "python",
   "pygments_lexer": "ipython3",
   "version": "3.9.17"
  }
 },
 "nbformat": 4,
 "nbformat_minor": 5
}
