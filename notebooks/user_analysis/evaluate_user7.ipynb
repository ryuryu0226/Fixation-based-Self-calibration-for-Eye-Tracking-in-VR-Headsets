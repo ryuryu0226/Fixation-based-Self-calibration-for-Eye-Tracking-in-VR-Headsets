{
 "cells": [
  {
   "cell_type": "code",
   "execution_count": 1,
   "id": "e4a1b476-0fcf-4655-baf5-61d1e0c813cc",
   "metadata": {},
   "outputs": [],
   "source": [
    "import numpy as np\n",
    "import pandas as pd\n",
    "import matplotlib.pyplot as plt"
   ]
  },
  {
   "cell_type": "code",
   "execution_count": 2,
   "id": "93dc75ad-400e-4cb0-987d-5c76d905d148",
   "metadata": {},
   "outputs": [],
   "source": [
    "import sys\n",
    "sys.path.append(\"../../src\")\n",
    "from evaluate_gaze import EvaluateGaze"
   ]
  },
  {
   "cell_type": "code",
   "execution_count": 3,
   "id": "3148532c-aa54-4a84-a390-6a0c48367ab0",
   "metadata": {},
   "outputs": [
    {
     "data": {
      "text/html": [
       "<div>\n",
       "<style scoped>\n",
       "    .dataframe tbody tr th:only-of-type {\n",
       "        vertical-align: middle;\n",
       "    }\n",
       "\n",
       "    .dataframe tbody tr th {\n",
       "        vertical-align: top;\n",
       "    }\n",
       "\n",
       "    .dataframe thead th {\n",
       "        text-align: right;\n",
       "    }\n",
       "</style>\n",
       "<table border=\"1\" class=\"dataframe\">\n",
       "  <thead>\n",
       "    <tr style=\"text-align: right;\">\n",
       "      <th></th>\n",
       "      <th>flag</th>\n",
       "      <th>xl</th>\n",
       "      <th>yl</th>\n",
       "      <th>zl</th>\n",
       "      <th>xr</th>\n",
       "      <th>yr</th>\n",
       "      <th>zr</th>\n",
       "      <th>xc</th>\n",
       "      <th>yc</th>\n",
       "      <th>zc</th>\n",
       "      <th>...</th>\n",
       "      <th>ray_x</th>\n",
       "      <th>ray_y</th>\n",
       "      <th>ray_z</th>\n",
       "      <th>eye_x</th>\n",
       "      <th>eye_y</th>\n",
       "      <th>eye_z</th>\n",
       "      <th>time</th>\n",
       "      <th>frame</th>\n",
       "      <th>u</th>\n",
       "      <th>v</th>\n",
       "    </tr>\n",
       "  </thead>\n",
       "  <tbody>\n",
       "    <tr>\n",
       "      <th>0</th>\n",
       "      <td>25.0</td>\n",
       "      <td>0.237219</td>\n",
       "      <td>0.108455</td>\n",
       "      <td>0.999919</td>\n",
       "      <td>0.045600</td>\n",
       "      <td>0.092275</td>\n",
       "      <td>0.999926</td>\n",
       "      <td>0.141409</td>\n",
       "      <td>0.100365</td>\n",
       "      <td>0.999922</td>\n",
       "      <td>...</td>\n",
       "      <td>0.137863</td>\n",
       "      <td>0.092660</td>\n",
       "      <td>0.986108</td>\n",
       "      <td>-0.001634</td>\n",
       "      <td>0.004223</td>\n",
       "      <td>-0.023241</td>\n",
       "      <td>47.85556</td>\n",
       "      <td>2962.0</td>\n",
       "      <td>0.175</td>\n",
       "      <td>0.104</td>\n",
       "    </tr>\n",
       "    <tr>\n",
       "      <th>1</th>\n",
       "      <td>25.0</td>\n",
       "      <td>0.237214</td>\n",
       "      <td>0.108422</td>\n",
       "      <td>1.000079</td>\n",
       "      <td>0.045355</td>\n",
       "      <td>0.092190</td>\n",
       "      <td>1.000064</td>\n",
       "      <td>0.141284</td>\n",
       "      <td>0.100306</td>\n",
       "      <td>1.000072</td>\n",
       "      <td>...</td>\n",
       "      <td>0.137728</td>\n",
       "      <td>0.092592</td>\n",
       "      <td>0.986133</td>\n",
       "      <td>-0.001636</td>\n",
       "      <td>0.004222</td>\n",
       "      <td>-0.023238</td>\n",
       "      <td>47.87778</td>\n",
       "      <td>2963.0</td>\n",
       "      <td>0.175</td>\n",
       "      <td>0.104</td>\n",
       "    </tr>\n",
       "    <tr>\n",
       "      <th>2</th>\n",
       "      <td>25.0</td>\n",
       "      <td>0.236592</td>\n",
       "      <td>0.108773</td>\n",
       "      <td>1.000041</td>\n",
       "      <td>0.045177</td>\n",
       "      <td>0.092280</td>\n",
       "      <td>1.000007</td>\n",
       "      <td>0.140883</td>\n",
       "      <td>0.100526</td>\n",
       "      <td>1.000024</td>\n",
       "      <td>...</td>\n",
       "      <td>0.137354</td>\n",
       "      <td>0.092814</td>\n",
       "      <td>0.986164</td>\n",
       "      <td>-0.001637</td>\n",
       "      <td>0.004221</td>\n",
       "      <td>-0.023235</td>\n",
       "      <td>47.88889</td>\n",
       "      <td>2964.0</td>\n",
       "      <td>0.175</td>\n",
       "      <td>0.104</td>\n",
       "    </tr>\n",
       "    <tr>\n",
       "      <th>3</th>\n",
       "      <td>25.0</td>\n",
       "      <td>0.236806</td>\n",
       "      <td>0.109352</td>\n",
       "      <td>0.999976</td>\n",
       "      <td>0.045092</td>\n",
       "      <td>0.092117</td>\n",
       "      <td>0.999952</td>\n",
       "      <td>0.140948</td>\n",
       "      <td>0.100735</td>\n",
       "      <td>0.999964</td>\n",
       "      <td>...</td>\n",
       "      <td>0.137422</td>\n",
       "      <td>0.093017</td>\n",
       "      <td>0.986135</td>\n",
       "      <td>-0.001638</td>\n",
       "      <td>0.004222</td>\n",
       "      <td>-0.023233</td>\n",
       "      <td>47.91111</td>\n",
       "      <td>2965.0</td>\n",
       "      <td>0.175</td>\n",
       "      <td>0.104</td>\n",
       "    </tr>\n",
       "    <tr>\n",
       "      <th>4</th>\n",
       "      <td>25.0</td>\n",
       "      <td>0.236692</td>\n",
       "      <td>0.109047</td>\n",
       "      <td>1.000039</td>\n",
       "      <td>0.045255</td>\n",
       "      <td>0.092203</td>\n",
       "      <td>1.000021</td>\n",
       "      <td>0.140973</td>\n",
       "      <td>0.100625</td>\n",
       "      <td>1.000030</td>\n",
       "      <td>...</td>\n",
       "      <td>0.137439</td>\n",
       "      <td>0.092906</td>\n",
       "      <td>0.986143</td>\n",
       "      <td>-0.001639</td>\n",
       "      <td>0.004222</td>\n",
       "      <td>-0.023230</td>\n",
       "      <td>47.92222</td>\n",
       "      <td>2966.0</td>\n",
       "      <td>0.175</td>\n",
       "      <td>0.104</td>\n",
       "    </tr>\n",
       "  </tbody>\n",
       "</table>\n",
       "<p>5 rows × 54 columns</p>\n",
       "</div>"
      ],
      "text/plain": [
       "   flag        xl        yl        zl        xr        yr        zr        xc  \\\n",
       "0  25.0  0.237219  0.108455  0.999919  0.045600  0.092275  0.999926  0.141409   \n",
       "1  25.0  0.237214  0.108422  1.000079  0.045355  0.092190  1.000064  0.141284   \n",
       "2  25.0  0.236592  0.108773  1.000041  0.045177  0.092280  1.000007  0.140883   \n",
       "3  25.0  0.236806  0.109352  0.999976  0.045092  0.092117  0.999952  0.140948   \n",
       "4  25.0  0.236692  0.109047  1.000039  0.045255  0.092203  1.000021  0.140973   \n",
       "\n",
       "         yc        zc  ...     ray_x     ray_y     ray_z     eye_x     eye_y  \\\n",
       "0  0.100365  0.999922  ...  0.137863  0.092660  0.986108 -0.001634  0.004223   \n",
       "1  0.100306  1.000072  ...  0.137728  0.092592  0.986133 -0.001636  0.004222   \n",
       "2  0.100526  1.000024  ...  0.137354  0.092814  0.986164 -0.001637  0.004221   \n",
       "3  0.100735  0.999964  ...  0.137422  0.093017  0.986135 -0.001638  0.004222   \n",
       "4  0.100625  1.000030  ...  0.137439  0.092906  0.986143 -0.001639  0.004222   \n",
       "\n",
       "      eye_z      time   frame      u      v  \n",
       "0 -0.023241  47.85556  2962.0  0.175  0.104  \n",
       "1 -0.023238  47.87778  2963.0  0.175  0.104  \n",
       "2 -0.023235  47.88889  2964.0  0.175  0.104  \n",
       "3 -0.023233  47.91111  2965.0  0.175  0.104  \n",
       "4 -0.023230  47.92222  2966.0  0.175  0.104  \n",
       "\n",
       "[5 rows x 54 columns]"
      ]
     },
     "execution_count": 3,
     "metadata": {},
     "output_type": "execute_result"
    }
   ],
   "source": [
    "user_id = 7\n",
    "df = pd.read_csv(f\"../data/eval_data/gaze_user{user_id}_eval_9.csv\")\n",
    "\n",
    "df.head()"
   ]
  },
  {
   "cell_type": "code",
   "execution_count": 4,
   "id": "dd99ef57-9e30-40f0-953f-1469103d7c47",
   "metadata": {},
   "outputs": [],
   "source": [
    "# gaze direction\n",
    "ray_x = df[\"ray_x\"].values\n",
    "ray_y = df[\"ray_y\"].values\n",
    "ray_z = df[\"ray_z\"].values\n",
    "\n",
    "# gaze direction at z=1\n",
    "xe = ray_x[:] / ray_z[:] * 1.0\n",
    "ye = ray_y[:] / ray_z[:] * 1.0\n",
    "\n",
    "# marker position on a calibration plane at 1m away (HMD coordinates)\n",
    "p = df[\"u\"].values\n",
    "q = df[\"v\"].values\n",
    "\n",
    "# origin (HMD coordinates)\n",
    "eye_x = df[\"eye_x\"].values\n",
    "eye_y = df[\"eye_y\"].values\n",
    "eye_z = df[\"eye_z\"].values\n",
    "\n",
    "# gaze position on a calibration plane at 1m away (HMD coordinates)\n",
    "ones = np.ones_like(eye_z)\n",
    "t = (ones - eye_z) / ray_z\n",
    "xh = eye_x + t * ray_x\n",
    "yh = eye_y + t * ray_y"
   ]
  },
  {
   "cell_type": "markdown",
   "id": "e4087cd3-36e6-42d2-9e6c-655a28467c61",
   "metadata": {},
   "source": [
    "## Evaluate raw gaze direction"
   ]
  },
  {
   "cell_type": "code",
   "execution_count": 5,
   "id": "d2e40aea-4d37-4d64-9adf-65528c4f1f96",
   "metadata": {},
   "outputs": [
    {
     "data": {
      "text/plain": [
       "[0.0, 1.0, 0.0, 0.0, 0.0, 1.0]"
      ]
     },
     "execution_count": 5,
     "metadata": {},
     "output_type": "execute_result"
    }
   ],
   "source": [
    "param_raw = [0.0, 1.0, 0.0, 0.0, 0.0, 1.0]\n",
    "param_raw"
   ]
  },
  {
   "cell_type": "code",
   "execution_count": 6,
   "id": "26293b1b-7c73-4bc9-9f5f-1694173a1750",
   "metadata": {},
   "outputs": [
    {
     "name": "stdout",
     "output_type": "stream",
     "text": [
      "RMSE: 0.042947946626498375\n",
      "angle_err: 2.4592247886783767\n"
     ]
    }
   ],
   "source": [
    "rmse_raw = EvaluateGaze.err_rmse_reg(param_raw, xe, ye, eye_x, eye_y, eye_z, p, q)\n",
    "print(f\"RMSE: {rmse_raw}\")\n",
    "\n",
    "angle_err = np.rad2deg(np.arctan(rmse_raw))\n",
    "print(f\"angle_err: {angle_err}\")"
   ]
  },
  {
   "cell_type": "markdown",
   "id": "439d4e1a-a07d-4d46-9626-3d8cc41f8725",
   "metadata": {},
   "source": [
    "## Evaluate visual axis"
   ]
  },
  {
   "cell_type": "code",
   "execution_count": 7,
   "id": "db2527aa-748b-447e-a979-0aa74bc47c4a",
   "metadata": {},
   "outputs": [
    {
     "data": {
      "text/plain": [
       "array([ 0.00354807,  1.22084562,  0.00298013, -0.01870312,  0.01382732,\n",
       "        1.20268908])"
      ]
     },
     "execution_count": 7,
     "metadata": {},
     "output_type": "execute_result"
    }
   ],
   "source": [
    "pramm_vis = pd.read_csv(f\"../param/baseline_param.csv\").values[user_id-1]\n",
    "pramm_vis"
   ]
  },
  {
   "cell_type": "code",
   "execution_count": 8,
   "id": "b908dc5c-2d21-484b-af29-3cf3fbb81268",
   "metadata": {},
   "outputs": [],
   "source": [
    "# calibrate gaze direction\n",
    "calib_xe, calib_ye = EvaluateGaze.calibrate_reg(pramm_vis, xe, ye)\n",
    "\n",
    "# convert gaze position on calibration plane at 1m away (HMD coordinates)\n",
    "ones = np.ones_like(calib_xe)\n",
    "t = (ones - eye_z) / 1.0\n",
    "calib_xh = eye_x + t * calib_xe\n",
    "calib_yh = eye_y + t * calib_ye"
   ]
  },
  {
   "cell_type": "code",
   "execution_count": 9,
   "id": "da7ee98b-8c05-4162-81ed-41ad4ca60bf8",
   "metadata": {},
   "outputs": [
    {
     "name": "stdout",
     "output_type": "stream",
     "text": [
      "RMSE: 0.010377945546717521\n",
      "angle_err: 0.594591134287226\n"
     ]
    }
   ],
   "source": [
    "rmse_vis = EvaluateGaze.err_rmse_reg(pramm_vis, xe, ye, eye_x, eye_y, eye_z, p, q)\n",
    "print(f\"RMSE: {rmse_vis}\")\n",
    "\n",
    "angle_err = np.rad2deg(np.arctan(rmse_vis))\n",
    "print(f\"angle_err: {angle_err}\")"
   ]
  },
  {
   "cell_type": "code",
   "execution_count": 10,
   "id": "503677f9-5e81-4275-866b-e1b428a0b37d",
   "metadata": {},
   "outputs": [
    {
     "data": {
      "image/png": "[encoded data removed]",
      "text/plain": [
       "<Figure size 800x800 with 1 Axes>"
      ]
     },
     "metadata": {},
     "output_type": "display_data"
    }
   ],
   "source": [
    "label_xy = [-0.7/4, 0.0, 0.7/4]\n",
    "\n",
    "# キャリブレーション後\n",
    "plt.rcParams['font.family'] = 'Times New Roman'\n",
    "plt.rcParams['mathtext.fontset'] = 'stix'\n",
    "\n",
    "fig = plt.figure(figsize=(8, 8))\n",
    "fig.patch.set_facecolor(\"white\")\n",
    "\n",
    "plt.scatter(calib_xh, calib_yh, c=\"green\", label=\"visual axis\")\n",
    "plt.scatter(xh, yh, c=\"gray\", label=\"raw data\")\n",
    "plt.scatter(p, q, c=\"black\", label=\"marker\")\n",
    "\n",
    "plt.xlabel(\"x [m]\",  size=24)\n",
    "plt.ylabel(\"y [m]\",  size=24)\n",
    "\n",
    "plt.xlim(-0.4, 0.4)\n",
    "plt.ylim(-0.4-0.071, 0.4-0.071)\n",
    "plt.xticks([-0.175, 0.0, 0.175], label_xy, fontsize=14)\n",
    "plt.yticks([-0.175-0.071, -0.071, 0.175-0.071], label_xy, fontsize=14)\n",
    "\n",
    "plt.grid(which=\"major\", axis=\"both\", linestyle='--')\n",
    "plt.tick_params(length=8)\n",
    "plt.legend(fontsize=18, loc=\"upper right\")\n",
    "plt.subplots_adjust(left=0.15, right=0.95, bottom=0.1, top=0.9)\n",
    "plt.show()"
   ]
  },
  {
   "cell_type": "markdown",
   "id": "36da836f-a9b1-4bfc-af19-97d21e7cf221",
   "metadata": {},
   "source": [
    "## Evaluate optical axis"
   ]
  },
  {
   "cell_type": "code",
   "execution_count": 11,
   "id": "38786556-3d4a-4dd1-94bb-4349a93efddd",
   "metadata": {},
   "outputs": [
    {
     "data": {
      "text/plain": [
       "array([ 0.99984123, -0.00102759, -0.01778921,  0.        ,  0.99833578,\n",
       "       -0.05766857,  0.01781887,  0.05765942,  0.99817728])"
      ]
     },
     "execution_count": 11,
     "metadata": {},
     "output_type": "execute_result"
    }
   ],
   "source": [
    "param_opt = EvaluateGaze.get_rotation([-1.021, -3.306]).flatten()\n",
    "param_opt"
   ]
  },
  {
   "cell_type": "code",
   "execution_count": 12,
   "id": "74246fb7-5553-490f-80a4-7d4a23c4a4d7",
   "metadata": {},
   "outputs": [
    {
     "data": {
      "text/plain": [
       "(561, 3)"
      ]
     },
     "execution_count": 12,
     "metadata": {},
     "output_type": "execute_result"
    }
   ],
   "source": [
    "r = np.sqrt(calib_xe * calib_xe + calib_ye * calib_ye + 1)\n",
    "ray = np.stack([calib_xe/r, calib_ye/r, 1/r], axis=1)\n",
    "ray.shape"
   ]
  },
  {
   "cell_type": "code",
   "execution_count": 13,
   "id": "bb3baa84-5358-440e-9139-feb818bd0ac3",
   "metadata": {},
   "outputs": [],
   "source": [
    "# calibrate gaze direction\n",
    "calib_ray = EvaluateGaze.calibrate_3d(param_opt, ray)\n",
    "\n",
    "# calculate gaze direction at z=1\n",
    "calib_xe2 = calib_ray[:, 0] / calib_ray[:, 2] * 1.0\n",
    "calib_ye2 = calib_ray[:, 1] / calib_ray[:, 2] * 1.0\n",
    "\n",
    "# convert gaze position on calibration plane at 1m away (HMD coordinates)\n",
    "ones = np.ones_like(calib_xe2)\n",
    "t = (ones - eye_z) / 1.0\n",
    "calib_xh2 = eye_x + t * calib_xe2\n",
    "calib_yh2 = eye_y + t * calib_ye2"
   ]
  },
  {
   "cell_type": "code",
   "execution_count": 14,
   "id": "dde363af-264c-4730-ae44-e9b633e3a052",
   "metadata": {},
   "outputs": [
    {
     "name": "stdout",
     "output_type": "stream",
     "text": [
      "RMSE: 0.06587982360963425\n",
      "angle_err: 3.769189194408481\n"
     ]
    }
   ],
   "source": [
    "rmse_opt = EvaluateGaze.err_rmse_3d(param_opt, ray, eye_x, eye_y, eye_z, p, q)\n",
    "print(f\"RMSE: {rmse_opt}\")\n",
    "\n",
    "angle_err = np.rad2deg(np.arctan(rmse_opt))\n",
    "print(f\"angle_err: {angle_err}\")"
   ]
  },
  {
   "cell_type": "code",
   "execution_count": 15,
   "id": "12c6bc2a-6485-451b-90ac-5302947067d8",
   "metadata": {},
   "outputs": [
    {
     "data": {
      "image/png": "[encoded data removed]",
      "text/plain": [
       "<Figure size 800x800 with 1 Axes>"
      ]
     },
     "metadata": {},
     "output_type": "display_data"
    }
   ],
   "source": [
    "label_xy = [-0.7/4, 0.0, 0.7/4]\n",
    "\n",
    "# キャリブレーション後\n",
    "plt.rcParams['font.family'] = 'Times New Roman'\n",
    "plt.rcParams['mathtext.fontset'] = 'stix'\n",
    "\n",
    "fig = plt.figure(figsize=(8, 8))\n",
    "fig.patch.set_facecolor(\"white\")\n",
    "\n",
    "plt.scatter(calib_xh, calib_yh, c=\"green\", label=\"visual axis\")\n",
    "plt.scatter(calib_xh2, calib_yh2, c=\"lightgreen\", label=\"optical axis\")\n",
    "plt.scatter(p, q, c=\"black\", label=\"marker\")\n",
    "\n",
    "plt.xlabel(\"x [m]\",  size=24)\n",
    "plt.ylabel(\"y [m]\",  size=24)\n",
    "\n",
    "plt.xlim(-0.4, 0.4)\n",
    "plt.ylim(-0.4-0.071, 0.4-0.071)\n",
    "plt.xticks([-0.175, 0.0, 0.175], label_xy, fontsize=14)\n",
    "plt.yticks([-0.175-0.071, -0.071, 0.175-0.071], label_xy, fontsize=14)\n",
    "\n",
    "plt.grid(which=\"major\", axis=\"both\", linestyle='--')\n",
    "plt.tick_params(length=8)\n",
    "plt.legend(fontsize=18, loc=\"upper right\")\n",
    "plt.subplots_adjust(left=0.15, right=0.95, bottom=0.1, top=0.9)\n",
    "plt.show()"
   ]
  }
 ],
 "metadata": {
  "kernelspec": {
   "display_name": "Python 3 (ipykernel)",
   "language": "python",
   "name": "python3"
  },
  "language_info": {
   "codemirror_mode": {
    "name": "ipython",
    "version": 3
   },
   "file_extension": ".py",
   "mimetype": "text/x-python",
   "name": "python",
   "nbconvert_exporter": "python",
   "pygments_lexer": "ipython3",
   "version": "3.9.17"
  }
 },
 "nbformat": 4,
 "nbformat_minor": 5
}
