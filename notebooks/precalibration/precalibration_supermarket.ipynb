{
 "cells": [
  {
   "cell_type": "code",
   "execution_count": 1,
   "id": "13bebd85-92c1-427e-bd8f-0610616cb674",
   "metadata": {},
   "outputs": [],
   "source": [
    "import numpy as np\n",
    "import pandas as pd"
   ]
  },
  {
   "cell_type": "code",
   "execution_count": 2,
   "id": "71f2a7bb-36ac-4d26-816b-d3fb63fa7ec1",
   "metadata": {},
   "outputs": [],
   "source": [
    "import sys\n",
    "sys.path.append(\"../../src\")\n",
    "from precalibrate_gaze import PrecalibrateGaze"
   ]
  },
  {
   "cell_type": "code",
   "execution_count": 3,
   "id": "7f9c9328-d840-489c-b719-05e908411163",
   "metadata": {},
   "outputs": [
    {
     "data": {
      "text/plain": [
       "['../data/supermarket_data/gaze_user1_supermarket.csv',\n",
       " '../data/supermarket_data/gaze_user2_supermarket.csv',\n",
       " '../data/supermarket_data/gaze_user3_supermarket.csv',\n",
       " '../data/supermarket_data/gaze_user4_supermarket.csv',\n",
       " '../data/supermarket_data/gaze_user5_supermarket.csv',\n",
       " '../data/supermarket_data/gaze_user6_supermarket.csv',\n",
       " '../data/supermarket_data/gaze_user7_supermarket.csv',\n",
       " '../data/supermarket_data/gaze_user8_supermarket.csv',\n",
       " '../data/supermarket_data/gaze_user9_supermarket.csv',\n",
       " '../data/supermarket_data/gaze_user10_supermarket.csv',\n",
       " '../data/supermarket_data/gaze_user11_supermarket.csv',\n",
       " '../data/supermarket_data/gaze_user12_supermarket.csv',\n",
       " '../data/supermarket_data/gaze_user13_supermarket.csv',\n",
       " '../data/supermarket_data/gaze_user14_supermarket.csv',\n",
       " '../data/supermarket_data/gaze_user15_supermarket.csv',\n",
       " '../data/supermarket_data/gaze_user16_supermarket.csv',\n",
       " '../data/supermarket_data/gaze_user17_supermarket.csv',\n",
       " '../data/supermarket_data/gaze_user18_supermarket.csv',\n",
       " '../data/supermarket_data/gaze_user19_supermarket.csv',\n",
       " '../data/supermarket_data/gaze_user20_supermarket.csv',\n",
       " '../data/supermarket_data/gaze_user21_supermarket.csv',\n",
       " '../data/supermarket_data/gaze_user22_supermarket.csv']"
      ]
     },
     "execution_count": 3,
     "metadata": {},
     "output_type": "execute_result"
    }
   ],
   "source": [
    "scene = \"supermarket\"\n",
    "\n",
    "folder = f\"../data/{scene}_data/\"\n",
    "\n",
    "path_list = []\n",
    "for i in range(1, 23):\n",
    "    filename = f\"gaze_user{i}_{scene}.csv\"\n",
    "    path_list.append(folder+filename)\n",
    "\n",
    "path_list"
   ]
  },
  {
   "cell_type": "code",
   "execution_count": 4,
   "id": "404b1b80-af1e-49f8-a97a-2e30410ae138",
   "metadata": {},
   "outputs": [
    {
     "name": "stdout",
     "output_type": "stream",
     "text": [
      "param_base.shape: (22, 6)\n"
     ]
    }
   ],
   "source": [
    "pg = PrecalibrateGaze(\"../param/baseline_param.csv\")"
   ]
  },
  {
   "cell_type": "code",
   "execution_count": 5,
   "id": "86f48998-2f55-43af-adab-20f2dde39902",
   "metadata": {},
   "outputs": [
    {
     "name": "stdout",
     "output_type": "stream",
     "text": [
      "df.shape: (11554, 42)\n",
      "updated df.shape: (11554, 45)\n",
      "df.shape: (12660, 42)\n",
      "updated df.shape: (12660, 45)\n",
      "df.shape: (8300, 42)\n",
      "updated df.shape: (8300, 45)\n",
      "df.shape: (12063, 42)\n",
      "updated df.shape: (12063, 45)\n",
      "df.shape: (11531, 42)\n",
      "updated df.shape: (11531, 45)\n",
      "df.shape: (13584, 42)\n",
      "updated df.shape: (13584, 45)\n",
      "df.shape: (9903, 42)\n",
      "updated df.shape: (9903, 45)\n",
      "df.shape: (9980, 42)\n",
      "updated df.shape: (9980, 45)\n",
      "df.shape: (14426, 42)\n",
      "updated df.shape: (14426, 45)\n",
      "df.shape: (9004, 42)\n",
      "updated df.shape: (9004, 45)\n",
      "df.shape: (7614, 42)\n",
      "updated df.shape: (7614, 45)\n",
      "df.shape: (8901, 42)\n",
      "updated df.shape: (8901, 45)\n",
      "df.shape: (7600, 42)\n",
      "updated df.shape: (7600, 45)\n",
      "df.shape: (7137, 42)\n",
      "updated df.shape: (7137, 45)\n",
      "df.shape: (8180, 42)\n",
      "updated df.shape: (8180, 45)\n",
      "df.shape: (6270, 42)\n",
      "updated df.shape: (6270, 45)\n",
      "df.shape: (7401, 42)\n",
      "updated df.shape: (7401, 45)\n",
      "df.shape: (8415, 42)\n",
      "updated df.shape: (8415, 45)\n",
      "df.shape: (5713, 42)\n",
      "updated df.shape: (5713, 45)\n",
      "df.shape: (6752, 42)\n",
      "updated df.shape: (6752, 45)\n",
      "df.shape: (5193, 42)\n",
      "updated df.shape: (5193, 45)\n",
      "df.shape: (8284, 42)\n",
      "updated df.shape: (8284, 45)\n"
     ]
    }
   ],
   "source": [
    "param = [1.021, 3.306]\n",
    "\n",
    "for i in range(len(path_list)):\n",
    "    user_id = i+1\n",
    "    pg.precalibrate_gaze(path_list[i], f\"../data/{scene}_data_opt/gaze_user_{user_id}_{scene}.csv\", user_id, param)"
   ]
  },
  {
   "cell_type": "code",
   "execution_count": 6,
   "id": "5da1d23d-b538-4355-bf4f-2a54e9f60889",
   "metadata": {},
   "outputs": [
    {
     "name": "stdout",
     "output_type": "stream",
     "text": [
      "df.shape: (11554, 42)\n",
      "updated df.shape: (11554, 45)\n",
      "df.shape: (12660, 42)\n",
      "updated df.shape: (12660, 45)\n",
      "df.shape: (8300, 42)\n",
      "updated df.shape: (8300, 45)\n",
      "df.shape: (12063, 42)\n",
      "updated df.shape: (12063, 45)\n",
      "df.shape: (11531, 42)\n",
      "updated df.shape: (11531, 45)\n",
      "df.shape: (13584, 42)\n",
      "updated df.shape: (13584, 45)\n",
      "df.shape: (9903, 42)\n",
      "updated df.shape: (9903, 45)\n",
      "df.shape: (9980, 42)\n",
      "updated df.shape: (9980, 45)\n",
      "df.shape: (14426, 42)\n",
      "updated df.shape: (14426, 45)\n",
      "df.shape: (9004, 42)\n",
      "updated df.shape: (9004, 45)\n",
      "df.shape: (7614, 42)\n",
      "updated df.shape: (7614, 45)\n",
      "df.shape: (8901, 42)\n",
      "updated df.shape: (8901, 45)\n",
      "df.shape: (7600, 42)\n",
      "updated df.shape: (7600, 45)\n",
      "df.shape: (7137, 42)\n",
      "updated df.shape: (7137, 45)\n",
      "df.shape: (8180, 42)\n",
      "updated df.shape: (8180, 45)\n",
      "df.shape: (6270, 42)\n",
      "updated df.shape: (6270, 45)\n",
      "df.shape: (7401, 42)\n",
      "updated df.shape: (7401, 45)\n",
      "df.shape: (8415, 42)\n",
      "updated df.shape: (8415, 45)\n",
      "df.shape: (5713, 42)\n",
      "updated df.shape: (5713, 45)\n",
      "df.shape: (6752, 42)\n",
      "updated df.shape: (6752, 45)\n",
      "df.shape: (5193, 42)\n",
      "updated df.shape: (5193, 45)\n",
      "df.shape: (8284, 42)\n",
      "updated df.shape: (8284, 45)\n"
     ]
    }
   ],
   "source": [
    "param = [0, 0]\n",
    "\n",
    "for i in range(len(path_list)):\n",
    "    user_id = i+1\n",
    "    pg.precalibrate_gaze(path_list[i], f\"../data/{scene}_data_vis/gaze_user_{user_id}_{scene}.csv\", user_id, param)"
   ]
  }
 ],
 "metadata": {
  "kernelspec": {
   "display_name": "Python 3 (ipykernel)",
   "language": "python",
   "name": "python3"
  },
  "language_info": {
   "codemirror_mode": {
    "name": "ipython",
    "version": 3
   },
   "file_extension": ".py",
   "mimetype": "text/x-python",
   "name": "python",
   "nbconvert_exporter": "python",
   "pygments_lexer": "ipython3",
   "version": "3.9.17"
  }
 },
 "nbformat": 4,
 "nbformat_minor": 5
}
