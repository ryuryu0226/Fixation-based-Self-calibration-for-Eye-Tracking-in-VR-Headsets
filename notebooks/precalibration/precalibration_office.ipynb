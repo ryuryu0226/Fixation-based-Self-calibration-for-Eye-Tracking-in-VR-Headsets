{
 "cells": [
  {
   "cell_type": "code",
   "execution_count": 1,
   "id": "13bebd85-92c1-427e-bd8f-0610616cb674",
   "metadata": {},
   "outputs": [],
   "source": [
    "import numpy as np\n",
    "import pandas as pd"
   ]
  },
  {
   "cell_type": "code",
   "execution_count": 2,
   "id": "71f2a7bb-36ac-4d26-816b-d3fb63fa7ec1",
   "metadata": {},
   "outputs": [],
   "source": [
    "import sys\n",
    "sys.path.append(\"../../src\")\n",
    "from precalibrate_gaze import PrecalibrateGaze"
   ]
  },
  {
   "cell_type": "code",
   "execution_count": 3,
   "id": "7f9c9328-d840-489c-b719-05e908411163",
   "metadata": {},
   "outputs": [
    {
     "data": {
      "text/plain": [
       "['../data/office_data/gaze_user1_office.csv',\n",
       " '../data/office_data/gaze_user2_office.csv',\n",
       " '../data/office_data/gaze_user3_office.csv',\n",
       " '../data/office_data/gaze_user4_office.csv',\n",
       " '../data/office_data/gaze_user5_office.csv',\n",
       " '../data/office_data/gaze_user6_office.csv',\n",
       " '../data/office_data/gaze_user7_office.csv',\n",
       " '../data/office_data/gaze_user8_office.csv',\n",
       " '../data/office_data/gaze_user9_office.csv',\n",
       " '../data/office_data/gaze_user10_office.csv',\n",
       " '../data/office_data/gaze_user11_office.csv',\n",
       " '../data/office_data/gaze_user12_office.csv',\n",
       " '../data/office_data/gaze_user13_office.csv',\n",
       " '../data/office_data/gaze_user14_office.csv',\n",
       " '../data/office_data/gaze_user15_office.csv',\n",
       " '../data/office_data/gaze_user16_office.csv',\n",
       " '../data/office_data/gaze_user17_office.csv',\n",
       " '../data/office_data/gaze_user18_office.csv',\n",
       " '../data/office_data/gaze_user19_office.csv',\n",
       " '../data/office_data/gaze_user20_office.csv',\n",
       " '../data/office_data/gaze_user21_office.csv',\n",
       " '../data/office_data/gaze_user22_office.csv']"
      ]
     },
     "execution_count": 3,
     "metadata": {},
     "output_type": "execute_result"
    }
   ],
   "source": [
    "scene = \"office\"\n",
    "\n",
    "folder = f\"../data/{scene}_data/\"\n",
    "\n",
    "path_list = []\n",
    "for i in range(1, 23):\n",
    "    filename = f\"gaze_user{i}_{scene}.csv\"\n",
    "    path_list.append(folder+filename)\n",
    "\n",
    "path_list"
   ]
  },
  {
   "cell_type": "code",
   "execution_count": 4,
   "id": "404b1b80-af1e-49f8-a97a-2e30410ae138",
   "metadata": {},
   "outputs": [
    {
     "name": "stdout",
     "output_type": "stream",
     "text": [
      "param_base.shape: (22, 6)\n"
     ]
    }
   ],
   "source": [
    "pg = PrecalibrateGaze(\"../param/baseline_param.csv\")"
   ]
  },
  {
   "cell_type": "code",
   "execution_count": 5,
   "id": "86f48998-2f55-43af-adab-20f2dde39902",
   "metadata": {},
   "outputs": [
    {
     "name": "stdout",
     "output_type": "stream",
     "text": [
      "df.shape: (13163, 42)\n",
      "updated df.shape: (13163, 45)\n",
      "df.shape: (13596, 42)\n",
      "updated df.shape: (13596, 45)\n",
      "df.shape: (10799, 42)\n",
      "updated df.shape: (10799, 45)\n",
      "df.shape: (8176, 42)\n",
      "updated df.shape: (8176, 45)\n",
      "df.shape: (10669, 42)\n",
      "updated df.shape: (10669, 45)\n",
      "df.shape: (8913, 42)\n",
      "updated df.shape: (8913, 45)\n",
      "df.shape: (9925, 42)\n",
      "updated df.shape: (9925, 45)\n",
      "df.shape: (7195, 42)\n",
      "updated df.shape: (7195, 45)\n",
      "df.shape: (13423, 42)\n",
      "updated df.shape: (13423, 45)\n",
      "df.shape: (6785, 42)\n",
      "updated df.shape: (6785, 45)\n",
      "df.shape: (8415, 42)\n",
      "updated df.shape: (8415, 45)\n",
      "df.shape: (8706, 42)\n",
      "updated df.shape: (8706, 45)\n",
      "df.shape: (5476, 42)\n",
      "updated df.shape: (5476, 45)\n",
      "df.shape: (6888, 42)\n",
      "updated df.shape: (6888, 45)\n",
      "df.shape: (8821, 42)\n",
      "updated df.shape: (8821, 45)\n",
      "df.shape: (5526, 42)\n",
      "updated df.shape: (5526, 45)\n",
      "df.shape: (6495, 42)\n",
      "updated df.shape: (6495, 45)\n",
      "df.shape: (6773, 42)\n",
      "updated df.shape: (6773, 45)\n",
      "df.shape: (5938, 42)\n",
      "updated df.shape: (5938, 45)\n",
      "df.shape: (5685, 42)\n",
      "updated df.shape: (5685, 45)\n",
      "df.shape: (6438, 42)\n",
      "updated df.shape: (6438, 45)\n",
      "df.shape: (6712, 42)\n",
      "updated df.shape: (6712, 45)\n"
     ]
    }
   ],
   "source": [
    "param = [1.021, 3.306]\n",
    "\n",
    "for i in range(len(path_list)):\n",
    "    user_id = i+1\n",
    "    pg.precalibrate_gaze(path_list[i], f\"../data/{scene}_data_opt/gaze_user_{user_id}_{scene}.csv\", user_id, param)"
   ]
  },
  {
   "cell_type": "code",
   "execution_count": 6,
   "id": "5da1d23d-b538-4355-bf4f-2a54e9f60889",
   "metadata": {},
   "outputs": [
    {
     "name": "stdout",
     "output_type": "stream",
     "text": [
      "df.shape: (13163, 42)\n",
      "updated df.shape: (13163, 45)\n",
      "df.shape: (13596, 42)\n",
      "updated df.shape: (13596, 45)\n",
      "df.shape: (10799, 42)\n",
      "updated df.shape: (10799, 45)\n",
      "df.shape: (8176, 42)\n",
      "updated df.shape: (8176, 45)\n",
      "df.shape: (10669, 42)\n",
      "updated df.shape: (10669, 45)\n",
      "df.shape: (8913, 42)\n",
      "updated df.shape: (8913, 45)\n",
      "df.shape: (9925, 42)\n",
      "updated df.shape: (9925, 45)\n",
      "df.shape: (7195, 42)\n",
      "updated df.shape: (7195, 45)\n",
      "df.shape: (13423, 42)\n",
      "updated df.shape: (13423, 45)\n",
      "df.shape: (6785, 42)\n",
      "updated df.shape: (6785, 45)\n",
      "df.shape: (8415, 42)\n",
      "updated df.shape: (8415, 45)\n",
      "df.shape: (8706, 42)\n",
      "updated df.shape: (8706, 45)\n",
      "df.shape: (5476, 42)\n",
      "updated df.shape: (5476, 45)\n",
      "df.shape: (6888, 42)\n",
      "updated df.shape: (6888, 45)\n",
      "df.shape: (8821, 42)\n",
      "updated df.shape: (8821, 45)\n",
      "df.shape: (5526, 42)\n",
      "updated df.shape: (5526, 45)\n",
      "df.shape: (6495, 42)\n",
      "updated df.shape: (6495, 45)\n",
      "df.shape: (6773, 42)\n",
      "updated df.shape: (6773, 45)\n",
      "df.shape: (5938, 42)\n",
      "updated df.shape: (5938, 45)\n",
      "df.shape: (5685, 42)\n",
      "updated df.shape: (5685, 45)\n",
      "df.shape: (6438, 42)\n",
      "updated df.shape: (6438, 45)\n",
      "df.shape: (6712, 42)\n",
      "updated df.shape: (6712, 45)\n"
     ]
    }
   ],
   "source": [
    "param = [0, 0]\n",
    "\n",
    "for i in range(len(path_list)):\n",
    "    user_id = i+1\n",
    "    pg.precalibrate_gaze(path_list[i], f\"../data/{scene}_data_vis/gaze_user_{user_id}_{scene}.csv\", user_id, param)"
   ]
  }
 ],
 "metadata": {
  "kernelspec": {
   "display_name": "Python 3 (ipykernel)",
   "language": "python",
   "name": "python3"
  },
  "language_info": {
   "codemirror_mode": {
    "name": "ipython",
    "version": 3
   },
   "file_extension": ".py",
   "mimetype": "text/x-python",
   "name": "python",
   "nbconvert_exporter": "python",
   "pygments_lexer": "ipython3",
   "version": "3.9.17"
  }
 },
 "nbformat": 4,
 "nbformat_minor": 5
}
