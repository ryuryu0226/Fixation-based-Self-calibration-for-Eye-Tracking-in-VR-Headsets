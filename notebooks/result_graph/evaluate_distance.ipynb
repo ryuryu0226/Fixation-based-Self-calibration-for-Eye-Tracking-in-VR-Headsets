{
 "cells": [
  {
   "cell_type": "code",
   "execution_count": 1,
   "id": "c91d841a-bd1f-4b55-a06b-2e2075c78874",
   "metadata": {},
   "outputs": [],
   "source": [
    "import numpy as np\n",
    "import pandas as pd"
   ]
  },
  {
   "cell_type": "code",
   "execution_count": 2,
   "id": "e76e6bf5-82af-477c-8999-5a8889d80927",
   "metadata": {},
   "outputs": [],
   "source": [
    "import sys\n",
    "sys.path.append(\"../../src\")\n",
    "from evaluate_gaze import EvaluateGaze"
   ]
  },
  {
   "cell_type": "code",
   "execution_count": 3,
   "id": "8ad34abc-dd1b-4006-80c9-55bf322c8bc0",
   "metadata": {},
   "outputs": [],
   "source": [
    "filenames = [\"gaze_user1_eval\", \"gaze_user5_eval\", \"gaze_user6_eval\", \"gaze_user7_eval\", \"gaze_user9_eval\", \"gaze_user10_eval\",\n",
    "            \"gaze_user11_eval\", \"gaze_user12_eval\", \"gaze_user13_eval\", \"gaze_user14_eval\", \"gaze_user15_eval\", \"gaze_user16_eval\",\n",
    "            \"gaze_user17_eval\", \"gaze_user18_eval\", \"gaze_user19_eval\", \"gaze_user20_eval\", \"gaze_user21_eval\", \"gaze_user22_eval\"]\n",
    "\n",
    "param_base = np.array([[0.0032071,1.132082,-0.012222,0.0145565,0.0386048,1.101016], # user1\n",
    "                        [-0.0016279,1.03992,-0.0056808,-0.0414607,0.0192304,1.034254], # user5\n",
    "                        [-0.0194104,1.121174,-0.0597117,-0.0444235,0.0227514,1.036206], # user6\n",
    "                        [0.0035481,1.220846,0.0029801,-0.0187031,0.0138273,1.202689], # user7\n",
    "                        [0.0118746,1.126979,0.0087397,0.0190103,0.0586724,1.131897], # user9\n",
    "                        [0.0128447,1.256929,-0.0203154,-0.0250912,-0.1599605,1.23569], # user10\n",
    "                        [-0.0170439,1.249979,0.0219144,-0.0524217,0.0925027,1.110617], # user11\n",
    "                        [0.0157571,1.155765,-0.0472319,0.0455988,-0.066452,1.07471], # user12\n",
    "                        [0.003122,1.254328,-0.0086436,-0.0323974,-0.0023565,1.177518], # user13\n",
    "                        [-0.0112417,1.241462,-0.0129041,-0.0664752,0.0313144,1.139016], # user14\n",
    "                        [0.0111117,1.095478,0.0054173,-0.0259066,0.0063917,1.158873], # user15\n",
    "                        [0.0023573,1.141537,-0.0273415,-0.0638539,-0.0131938,1.126768], # user16\n",
    "                        [0.0061245, 0.9277097, 0.0109082, -0.0534652, -0.0685555, 1.0371445], # user17\n",
    "                        [-0.0105441, 1.2846587, 0.0523644, -0.1068009, 0.0524075, 1.1849183], # user18\n",
    "                        [0.003653, 0.8896574, -0.0314634, -0.0799958, -0.0333527, 0.947567], # user19\n",
    "                        [0.0105162, 1.0453387, 0.0080319, -0.0345111, -0.0047367, 1.0608044], # user20\n",
    "                        [0.0029438, 1.2021868, -0.0028229, -0.0814718, 0.0155523, 1.0346821], # user21\n",
    "                        [0.0007695, 1.1219647, -0.0167943, -0.0508321, 0.0101614, 1.1379603]]) # user22"
   ]
  },
  {
   "cell_type": "code",
   "execution_count": 4,
   "id": "f27113ff-5725-4b2d-a0e2-3147b3f19cf6",
   "metadata": {},
   "outputs": [],
   "source": [
    "def angle_res(method, p):\n",
    "    # Load estimated parameter\n",
    "    param_office_df = pd.read_csv(f\"../param/exp_distance/{method}/{p}/param_office.csv\")\n",
    "    param_supermarket_df = pd.read_csv(f\"../param/exp_distance/{method}/{p}/param_supermarket.csv\")\n",
    "\n",
    "    angle_office = np.empty([1, 0])\n",
    "    angle_supermarket = np.empty([1, 0])\n",
    "    for i in range(len(filenames)):\n",
    "        # Get estimated parameter\n",
    "        param_office = EvaluateGaze.get_rotation(param_office_df[[\"alpha\", \"beta\"]].values[i]).flatten()\n",
    "        param_supermarket = EvaluateGaze.get_rotation(param_supermarket_df[[\"alpha\", \"beta\"]].values[i]).flatten()\n",
    "        # Calculate absolute error\n",
    "        angle_office = np.append(angle_office, EvaluateGaze.get_absolute_error(f\"../data/eval_data/{filenames[i]}_9.csv\", param_base[i], param_office))\n",
    "        angle_supermarket = np.append(angle_supermarket, EvaluateGaze.get_absolute_error(f\"../data/eval_data/{filenames[i]}_9.csv\", param_base[i], param_supermarket))\n",
    "\n",
    "    print(f\"mean error: {angle_office.mean()} deg, {angle_supermarket.mean()} deg\")\n",
    "\n",
    "    # Office\n",
    "    angle_office_df = pd.Series(angle_office, name=\"error\")\n",
    "    angle_office_df.to_csv(f\"../param/exp_distance/{method}/{p}/result_office.csv\", index=False, header=True)\n",
    "    # Supermarket\n",
    "    angle_supermarket_df = pd.Series(angle_supermarket, name=\"error\")\n",
    "    angle_supermarket_df.to_csv(f\"../param/exp_distance/{method}/{p}/result_supermarket.csv\", index=False, header=True)"
   ]
  },
  {
   "cell_type": "code",
   "execution_count": 5,
   "id": "7f367b35-271c-4a9f-97fa-1dfd67ff3423",
   "metadata": {},
   "outputs": [],
   "source": [
    "# method = \"ivtl_80deg_160ms_opt\"\n",
    "# method = \"idt_07deg_160ms_opt\"\n",
    "method = \"ivdt_80deg_07deg_160ms_opt\""
   ]
  },
  {
   "cell_type": "code",
   "execution_count": 6,
   "id": "179a6b16-694c-4150-a824-3698c3ff8db1",
   "metadata": {},
   "outputs": [
    {
     "name": "stdout",
     "output_type": "stream",
     "text": [
      "distance: 3\n",
      "mean error: 3.835610325053398 deg, 4.450026215246876 deg\n",
      "distance: 4\n",
      "mean error: 3.340919931413401 deg, 3.9006965466762398 deg\n",
      "distance: 5\n",
      "mean error: 3.489554551119193 deg, 3.7421526195716686 deg\n",
      "distance: 6\n",
      "mean error: 3.114291691531786 deg, 3.1119421883907474 deg\n",
      "distance: 7\n",
      "mean error: 3.0670042893463196 deg, 3.367912639998452 deg\n",
      "distance: 8\n",
      "mean error: 3.163342192446948 deg, 3.507021197002662 deg\n",
      "distance: 9\n",
      "mean error: 2.7227363322403155 deg, 3.215138454213907 deg\n",
      "distance: 10\n",
      "mean error: 2.594564156877949 deg, 3.1977080214201887 deg\n",
      "distance: 11\n",
      "mean error: 2.413639534246405 deg, 3.142684808535966 deg\n",
      "distance: 12\n",
      "mean error: 2.4146597925555664 deg, 2.9150289515900574 deg\n",
      "distance: 13\n",
      "mean error: 2.2803820449902306 deg, 2.98603078711654 deg\n",
      "distance: 14\n",
      "mean error: 2.3576418792254374 deg, 2.7233802000878127 deg\n",
      "distance: 15\n",
      "mean error: 2.04872223932013 deg, 3.1514216413132683 deg\n",
      "distance: 16\n",
      "mean error: 2.1137225721431063 deg, 3.0991544342151514 deg\n",
      "distance: 17\n",
      "mean error: 2.4863341835898285 deg, 3.0753031177378998 deg\n",
      "distance: 18\n",
      "mean error: 2.288016551297753 deg, 2.999635428570498 deg\n",
      "distance: 19\n",
      "mean error: 1.9704797790612238 deg, 3.0341301535681593 deg\n",
      "distance: 20\n",
      "mean error: 1.9211068911546698 deg, 3.0636186088089685 deg\n",
      "distance: 21\n",
      "mean error: 1.9273832266016753 deg, 3.1358364402212624 deg\n",
      "distance: 22\n",
      "mean error: 1.6623052763193986 deg, 3.065080658353888 deg\n",
      "distance: 23\n",
      "mean error: 1.5646953085681028 deg, 3.0908357210847486 deg\n",
      "distance: 24\n",
      "mean error: 1.5721309655004778 deg, 2.9506463527173654 deg\n",
      "distance: 25\n",
      "mean error: 1.7447933190422633 deg, 2.871085222844524 deg\n",
      "distance: 26\n",
      "mean error: 1.7094479969198941 deg, 2.9457404431021486 deg\n",
      "distance: 27\n",
      "mean error: 1.6354600379011996 deg, 3.0632239724805084 deg\n",
      "distance: 28\n",
      "mean error: 1.7979794140209238 deg, 2.8466819081368997 deg\n",
      "distance: 29\n",
      "mean error: 1.7034000409822387 deg, 2.861020365138652 deg\n",
      "distance: 30\n",
      "mean error: 1.6909004503335803 deg, 2.785012097424439 deg\n",
      "distance: 31\n",
      "mean error: 1.6970547841171584 deg, 2.832140928090405 deg\n",
      "distance: 32\n",
      "mean error: 1.5927402367930794 deg, 2.841603268275266 deg\n",
      "distance: 33\n",
      "mean error: 1.643856151107647 deg, 2.784083279295368 deg\n",
      "distance: 34\n",
      "mean error: 1.5856338853023102 deg, 2.778753295289938 deg\n"
     ]
    }
   ],
   "source": [
    "for p in range(3, 35):\n",
    "    print(f\"distance: {p}\")\n",
    "    angle_res(method, p)"
   ]
  }
 ],
 "metadata": {
  "kernelspec": {
   "display_name": "Python 3 (ipykernel)",
   "language": "python",
   "name": "python3"
  },
  "language_info": {
   "codemirror_mode": {
    "name": "ipython",
    "version": 3
   },
   "file_extension": ".py",
   "mimetype": "text/x-python",
   "name": "python",
   "nbconvert_exporter": "python",
   "pygments_lexer": "ipython3",
   "version": "3.9.17"
  }
 },
 "nbformat": 4,
 "nbformat_minor": 5
}
