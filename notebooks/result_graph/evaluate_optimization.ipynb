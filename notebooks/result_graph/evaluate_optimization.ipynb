{
 "cells": [
  {
   "cell_type": "code",
   "execution_count": 1,
   "id": "e653ef21-9170-47a3-89ac-eea787890e27",
   "metadata": {},
   "outputs": [],
   "source": [
    "import numpy as np\n",
    "import pandas as pd\n",
    "import matplotlib.pyplot as plt\n",
    "import matplotlib.cm as cm"
   ]
  },
  {
   "cell_type": "code",
   "execution_count": 2,
   "id": "dd516d2b-5d2f-4eb4-84b3-a7f3179a69ce",
   "metadata": {},
   "outputs": [],
   "source": [
    "import sys\n",
    "sys.path.append(\"../../src\")\n",
    "from evaluate_gaze import EvaluateGaze"
   ]
  },
  {
   "cell_type": "code",
   "execution_count": 3,
   "id": "991ed5ff-bdb6-4d72-aa84-bbea48108a9c",
   "metadata": {},
   "outputs": [],
   "source": [
    "filenames = [\"gaze_user1_eval\", \"gaze_user5_eval\", \"gaze_user6_eval\", \"gaze_user7_eval\", \"gaze_user9_eval\", \"gaze_user10_eval\",\n",
    "            \"gaze_user11_eval\", \"gaze_user12_eval\", \"gaze_user13_eval\", \"gaze_user14_eval\", \"gaze_user15_eval\", \"gaze_user16_eval\",\n",
    "            \"gaze_user17_eval\", \"gaze_user18_eval\", \"gaze_user19_eval\", \"gaze_user20_eval\", \"gaze_user21_eval\", \"gaze_user22_eval\"]\n",
    "\n",
    "param_base = np.array([[0.0032071,1.132082,-0.012222,0.0145565,0.0386048,1.101016], # user1\n",
    "                        [-0.0016279,1.03992,-0.0056808,-0.0414607,0.0192304,1.034254], # user5\n",
    "                        [-0.0194104,1.121174,-0.0597117,-0.0444235,0.0227514,1.036206], # user6\n",
    "                        [0.0035481,1.220846,0.0029801,-0.0187031,0.0138273,1.202689], # user7\n",
    "                        [0.0118746,1.126979,0.0087397,0.0190103,0.0586724,1.131897], # user9\n",
    "                        [0.0128447,1.256929,-0.0203154,-0.0250912,-0.1599605,1.23569], # user10\n",
    "                        [-0.0170439,1.249979,0.0219144,-0.0524217,0.0925027,1.110617], # user11\n",
    "                        [0.0157571,1.155765,-0.0472319,0.0455988,-0.066452,1.07471], # user12\n",
    "                        [0.003122,1.254328,-0.0086436,-0.0323974,-0.0023565,1.177518], # user13\n",
    "                        [-0.0112417,1.241462,-0.0129041,-0.0664752,0.0313144,1.139016], # user14\n",
    "                        [0.0111117,1.095478,0.0054173,-0.0259066,0.0063917,1.158873], # user15\n",
    "                        [0.0023573,1.141537,-0.0273415,-0.0638539,-0.0131938,1.126768], # user16\n",
    "                        [0.0061245, 0.9277097, 0.0109082, -0.0534652, -0.0685555, 1.0371445], # user17\n",
    "                        [-0.0105441, 1.2846587, 0.0523644, -0.1068009, 0.0524075, 1.1849183], # user18\n",
    "                        [0.003653, 0.8896574, -0.0314634, -0.0799958, -0.0333527, 0.947567], # user19\n",
    "                        [0.0105162, 1.0453387, 0.0080319, -0.0345111, -0.0047367, 1.0608044], # user20\n",
    "                        [0.0029438, 1.2021868, -0.0028229, -0.0814718, 0.0155523, 1.0346821], # user21\n",
    "                        [0.0007695, 1.1219647, -0.0167943, -0.0508321, 0.0101614, 1.1379603]]) # user22"
   ]
  },
  {
   "cell_type": "markdown",
   "id": "417d8b6f-d678-421f-bf63-9048c96f9284",
   "metadata": {},
   "source": [
    "## Visual axis"
   ]
  },
  {
   "cell_type": "code",
   "execution_count": 4,
   "id": "ccfc84ac-82b0-4544-af07-fbf3f9490490",
   "metadata": {},
   "outputs": [
    {
     "data": {
      "text/plain": [
       "array([1., 0., 0., 0., 1., 0., 0., 0., 1.])"
      ]
     },
     "execution_count": 4,
     "metadata": {},
     "output_type": "execute_result"
    }
   ],
   "source": [
    "param_vis = EvaluateGaze.get_rotation([0, 0]).flatten()\n",
    "param_vis"
   ]
  },
  {
   "cell_type": "code",
   "execution_count": 5,
   "id": "1d5b374b-b0e1-461d-8f5d-29599ae70f86",
   "metadata": {},
   "outputs": [
    {
     "name": "stdout",
     "output_type": "stream",
     "text": [
      "user0: 0.800122952664496 deg\n",
      "user1: 0.43520479497035097 deg\n",
      "user2: 0.7872499311383928 deg\n",
      "user3: 0.5946122199258236 deg\n",
      "user4: 0.6373132970755332 deg\n",
      "user5: 0.9195817948842642 deg\n",
      "user6: 0.8882053316515407 deg\n",
      "user7: 0.5546186891810752 deg\n",
      "user8: 0.6034449101370181 deg\n",
      "user9: 0.6303438491981416 deg\n",
      "user10: 0.7159847121162858 deg\n",
      "user11: 0.8231351566863879 deg\n",
      "user12: 0.9696483139412829 deg\n",
      "user13: 0.9996493261452913 deg\n",
      "user14: 0.8180103105777593 deg\n",
      "user15: 0.7958493443603054 deg\n",
      "user16: 0.692541388406732 deg\n",
      "user17: 0.44117680665385905 deg\n"
     ]
    },
    {
     "data": {
      "text/plain": [
       "(18,)"
      ]
     },
     "execution_count": 5,
     "metadata": {},
     "output_type": "execute_result"
    }
   ],
   "source": [
    "angle_vis = np.empty([1, 0])\n",
    "for i in range(len(filenames)):\n",
    "    angle_vis = np.append(angle_vis, EvaluateGaze.get_absolute_error(f\"../data/eval_data/{filenames[i]}_9.csv\", param_base[i], param_vis))\n",
    "    print(f\"user{i}: {angle_vis[i]} deg\")\n",
    "\n",
    "angle_vis.shape"
   ]
  },
  {
   "cell_type": "code",
   "execution_count": 6,
   "id": "c44a8ed5-f50d-4061-b2a5-bea64a463707",
   "metadata": {},
   "outputs": [],
   "source": [
    "angle_vis_df = pd.Series(angle_vis, name=\"error\")\n",
    "angle_vis_df.to_csv(f\"../param/result_vis.csv\", index=False, header=True)"
   ]
  },
  {
   "cell_type": "markdown",
   "id": "fffaaa39-f837-4596-9b4c-dcdabf49566b",
   "metadata": {},
   "source": [
    "## Optical axis"
   ]
  },
  {
   "cell_type": "code",
   "execution_count": 7,
   "id": "a27078ea-4c9f-48f2-bf92-327ebaf7c16d",
   "metadata": {},
   "outputs": [
    {
     "data": {
      "text/plain": [
       "array([ 0.99984123, -0.00102759, -0.01778921,  0.        ,  0.99833578,\n",
       "       -0.05766857,  0.01781887,  0.05765942,  0.99817728])"
      ]
     },
     "execution_count": 7,
     "metadata": {},
     "output_type": "execute_result"
    }
   ],
   "source": [
    "param_opt = EvaluateGaze.get_rotation([-1.021, -3.306]).flatten()\n",
    "param_opt"
   ]
  },
  {
   "cell_type": "code",
   "execution_count": 8,
   "id": "ad5e94dc-9246-4d16-8939-8e6ff4273ba9",
   "metadata": {},
   "outputs": [
    {
     "name": "stdout",
     "output_type": "stream",
     "text": [
      "user0: 3.5912534932288205 deg\n",
      "user1: 3.6140610500063044 deg\n",
      "user2: 3.805995547296558 deg\n",
      "user3: 3.7746340425120164 deg\n",
      "user4: 3.9121636037416585 deg\n",
      "user5: 3.838749882136982 deg\n",
      "user6: 3.8976079505625276 deg\n",
      "user7: 3.5975622256343773 deg\n",
      "user8: 3.7579929690204246 deg\n",
      "user9: 3.7154981084346623 deg\n",
      "user10: 3.5945992915552836 deg\n",
      "user11: 3.8610871744529316 deg\n",
      "user12: 3.465200103426179 deg\n",
      "user13: 3.455971272541012 deg\n",
      "user14: 3.554260926476578 deg\n",
      "user15: 3.7613545654666654 deg\n",
      "user16: 3.709807040761128 deg\n",
      "user17: 3.665970799183128 deg\n"
     ]
    },
    {
     "data": {
      "text/plain": [
       "(18,)"
      ]
     },
     "execution_count": 8,
     "metadata": {},
     "output_type": "execute_result"
    }
   ],
   "source": [
    "angle_opt = np.empty([1, 0])\n",
    "for i in range(len(filenames)):\n",
    "    angle_opt = np.append(angle_opt, EvaluateGaze.get_absolute_error(f\"../data/eval_data/{filenames[i]}_9.csv\", param_base[i], param_opt))\n",
    "    print(f\"user{i}: {angle_opt[i]} deg\")\n",
    "\n",
    "angle_opt.shape"
   ]
  },
  {
   "cell_type": "code",
   "execution_count": 9,
   "id": "a2633f93-7625-43d1-8049-1b8b58b5f985",
   "metadata": {},
   "outputs": [],
   "source": [
    "angle_opt_df = pd.Series(angle_opt, name=\"error\")\n",
    "angle_opt_df.to_csv(f\"../param/result_opt.csv\", index=False, header=True)"
   ]
  },
  {
   "cell_type": "markdown",
   "id": "c44488b6-c160-49f6-8c38-43df9a76e742",
   "metadata": {},
   "source": [
    "## Estimated parameter"
   ]
  },
  {
   "cell_type": "code",
   "execution_count": 10,
   "id": "43f9c2a4-f7d0-4868-b191-865bf64b409a",
   "metadata": {},
   "outputs": [
    {
     "data": {
      "text/plain": [
       "(18, 5)"
      ]
     },
     "execution_count": 10,
     "metadata": {},
     "output_type": "execute_result"
    }
   ],
   "source": [
    "# method = \"ivtl_80deg_160ms_opt\"\n",
    "# method = \"ivtl_80deg_160ms_vis\"\n",
    "# method = \"idt_07deg_160ms_opt\"\n",
    "# method = \"idt_07deg_160ms_vis\"\n",
    "# method = \"ivdt_80deg_07deg_160ms_opt\"\n",
    "method = \"ivdt_80deg_07deg_160ms_vis\"\n",
    "\n",
    "param_office_df = pd.read_csv(f\"../param/{method}/param_office.csv\")\n",
    "param_supermarket_df = pd.read_csv(f\"../param/{method}/param_supermarket.csv\")\n",
    "param_office_supermarket_df = pd.read_csv(f\"../param/{method}/param_office_supermarket.csv\")\n",
    "\n",
    "param_office_df.shape"
   ]
  },
  {
   "cell_type": "code",
   "execution_count": 11,
   "id": "a139e066-85c3-4a9d-8e9e-f112b46327a9",
   "metadata": {},
   "outputs": [
    {
     "name": "stdout",
     "output_type": "stream",
     "text": [
      "user0: 0.8851858389855226 deg, 2.192020607473918 deg, 0.8559257447794022 deg\n",
      "user1: 0.560865016915794 deg, 1.0378918074738936 deg, 0.46957248985097677 deg\n",
      "user2: 3.0169075776449947 deg, 3.927918222170709 deg, 2.6188613659978155 deg\n",
      "user3: 2.742531241330594 deg, 0.7465389160898097 deg, 0.7381171276584707 deg\n",
      "user4: 1.0986136923198127 deg, 1.1486279867841198 deg, 1.0504203926598907 deg\n",
      "user5: 3.414848383766036 deg, 2.234978209307188 deg, 3.077155169258975 deg\n",
      "user6: 1.181835744692916 deg, 1.8635070243265695 deg, 0.8379411674866207 deg\n",
      "user7: 0.6194052312312776 deg, 2.845308027286461 deg, 0.6726965468845169 deg\n",
      "user8: 2.1451007145249994 deg, 0.8138760052364973 deg, 1.688194698540104 deg\n",
      "user9: 1.7492391500189486 deg, 1.3243912814075043 deg, 0.9487407850099058 deg\n",
      "user10: 1.026044237761506 deg, 1.1993527253099865 deg, 1.196102191446715 deg\n",
      "user11: 2.1416932275744727 deg, 0.8432373628022202 deg, 0.8543552128173421 deg\n",
      "user12: 2.0944417648617226 deg, 1.9023562008399995 deg, 2.0361385091595587 deg\n",
      "user13: 1.8409777659821196 deg, 3.0060110085487084 deg, 1.951880228990895 deg\n",
      "user14: 1.1115524135647157 deg, 1.3629667762375073 deg, 1.2336520173969363 deg\n",
      "user15: 0.9042084879365596 deg, 1.2135911123889087 deg, 0.9012755692053563 deg\n",
      "user16: 1.364092178156541 deg, 0.7790868337662258 deg, 0.7872425349835377 deg\n",
      "user17: 1.4112582990840745 deg, 1.4660898918523617 deg, 1.3900927997878625 deg\n",
      "\n",
      "mean error: 1.6282667203529226 deg, 1.6615416666279215 deg, 1.2949091417730487 deg\n"
     ]
    }
   ],
   "source": [
    "angle_office = np.empty([1, 0])\n",
    "angle_supermarket = np.empty([1, 0])\n",
    "angle_office_supermarket = np.empty([1, 0])\n",
    "for i in range(len(filenames)):\n",
    "    # Get estimated parameter\n",
    "    param_office = EvaluateGaze.get_rotation(param_office_df[[\"alpha\", \"beta\"]].values[i]).flatten()\n",
    "    param_supermarket = EvaluateGaze.get_rotation(param_supermarket_df[[\"alpha\", \"beta\"]].values[i]).flatten()\n",
    "    param_office_supermarket = EvaluateGaze.get_rotation(param_office_supermarket_df[[\"alpha\", \"beta\"]].values[i]).flatten()\n",
    "    # Calculate absolute error\n",
    "    angle_office = np.append(angle_office, EvaluateGaze.get_absolute_error(f\"../data/eval_data/{filenames[i]}_9.csv\", param_base[i], param_office))\n",
    "    angle_supermarket = np.append(angle_supermarket, EvaluateGaze.get_absolute_error(f\"../data/eval_data/{filenames[i]}_9.csv\", param_base[i], param_supermarket))\n",
    "    angle_office_supermarket = np.append(angle_office_supermarket, EvaluateGaze.get_absolute_error(f\"../data/eval_data/{filenames[i]}_9.csv\", param_base[i], param_office_supermarket))\n",
    "    print(f\"user{i}: {angle_office[i]} deg, {angle_supermarket[i]} deg, {angle_office_supermarket[i]} deg\")\n",
    "\n",
    "print()\n",
    "print(f\"mean error: {angle_office.mean()} deg, {angle_supermarket.mean()} deg, {angle_office_supermarket.mean()} deg\")"
   ]
  },
  {
   "cell_type": "code",
   "execution_count": 12,
   "id": "eb34041a-2519-4d2b-a758-cb28503d5ef9",
   "metadata": {},
   "outputs": [],
   "source": [
    "# Office\n",
    "angle_office_df = pd.Series(angle_office, name=\"error\")\n",
    "angle_office_df.to_csv(f\"../param/{method}/result_office.csv\", index=False, header=True)\n",
    "# Supermarket\n",
    "angle_supermarket_df = pd.Series(angle_supermarket, name=\"error\")\n",
    "angle_supermarket_df.to_csv(f\"../param/{method}/result_supermarket.csv\", index=False, header=True)\n",
    "# Office + Supermarket\n",
    "angle_office_supermarket_df = pd.Series(angle_office_supermarket, name=\"error\")\n",
    "angle_office_supermarket_df.to_csv(f\"../param/{method}/result_office_supermarket.csv\", index=False, header=True)"
   ]
  }
 ],
 "metadata": {
  "kernelspec": {
   "display_name": "Python 3 (ipykernel)",
   "language": "python",
   "name": "python3"
  },
  "language_info": {
   "codemirror_mode": {
    "name": "ipython",
    "version": 3
   },
   "file_extension": ".py",
   "mimetype": "text/x-python",
   "name": "python",
   "nbconvert_exporter": "python",
   "pygments_lexer": "ipython3",
   "version": "3.9.13"
  }
 },
 "nbformat": 4,
 "nbformat_minor": 5
}
